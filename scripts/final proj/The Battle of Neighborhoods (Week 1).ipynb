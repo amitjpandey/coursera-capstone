{
 "cells": [
  {
   "cell_type": "markdown",
   "metadata": {},
   "source": [
    "### Introduction/Business Problem "
   ]
  },
  {
   "cell_type": "markdown",
   "metadata": {},
   "source": [
    "This project will analyze the neighbored of Boston, MA and potential venues of interest.\n",
    "\n",
    "As someone who is lives in Greater Boston and works in downtown area, I am often asked for recommendations, things to do, and areas to live from friends, colleagues who either live in different US cities or who are travelling to Boston on a work/pleasure trip. A systematic analysis of neighbored and venues not only benefit them but it will be beneficial for me as well at a personal level to explore areas and places which I have not explored.\n",
    "\n",
    "To successfully complete our analysis, we will need to explore available dataset, explore neighborhood in Boston, analyze each neighborhood, cluster neighborhood and finally examine the clusters."
   ]
  },
  {
   "cell_type": "markdown",
   "metadata": {},
   "source": [
    "### Data"
   ]
  },
  {
   "cell_type": "markdown",
   "metadata": {},
   "source": [
    "To perform our analysis, we will need two type of data.\n",
    "\n",
    "First, we will need location data. For this, we will use foursquare location data which will provide us venues on a given location. We will fetch top 100 venues in nearly 3 mile radius of Boston geographical coordinates. \n",
    "\n",
    "Second, we would need Boston’s neighborhood data. For this, we will use two sources and merge the data to obtain desired geo coordinates for various neighborhoods. For easy reference, i have downloaded this data in an excel which will be used.\n",
    "\n",
    "ZIP Code: http://archive.boston.com/news/local/articles/2007/04/15/sixfigurezipcodes_city/\n",
    "\n",
    "Geo Data: https://public.opendatasoft.com/explore/embed/dataset/us-zip-code-latitude-and-longitude/table/?q=boston&refine.state=MA&location=11,42.36681,-71.18952&basemap=jawg.streets\n"
   ]
  }
 ],
 "metadata": {
  "kernelspec": {
   "display_name": "Python 3",
   "language": "python",
   "name": "python3"
  },
  "language_info": {
   "codemirror_mode": {
    "name": "ipython",
    "version": 3
   },
   "file_extension": ".py",
   "mimetype": "text/x-python",
   "name": "python",
   "nbconvert_exporter": "python",
   "pygments_lexer": "ipython3",
   "version": "3.7.6"
  }
 },
 "nbformat": 4,
 "nbformat_minor": 4
}
